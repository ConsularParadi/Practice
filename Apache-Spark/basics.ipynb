{
 "cells": [
  {
   "cell_type": "code",
   "execution_count": 1,
   "id": "9a4a7c9b-513f-42ec-a119-862fc7dcf294",
   "metadata": {},
   "outputs": [
    {
     "name": "stdout",
     "output_type": "stream",
     "text": [
      "Defaulting to user installation because normal site-packages is not writeable\n",
      "Collecting pyspark\n",
      "  Downloading pyspark-3.5.0.tar.gz (316.9 MB)\n",
      "\u001b[2K     \u001b[38;2;114;156;31m━━━━━━━━━━━━━━━━━━━━━━━━━━━━━━━━━━━━━━━\u001b[0m \u001b[32m316.9/316.9 MB\u001b[0m \u001b[31m1.4 MB/s\u001b[0m eta \u001b[36m0:00:00\u001b[0mm eta \u001b[36m0:00:01\u001b[0m[36m0:00:04\u001b[0m\n",
      "\u001b[?25h  Installing build dependencies ... \u001b[?25ldone\n",
      "\u001b[?25h  Getting requirements to build wheel ... \u001b[?25ldone\n",
      "\u001b[?25h  Preparing metadata (pyproject.toml) ... \u001b[?25ldone\n",
      "\u001b[?25hCollecting py4j==0.10.9.7 (from pyspark)\n",
      "  Downloading py4j-0.10.9.7-py2.py3-none-any.whl (200 kB)\n",
      "\u001b[2K     \u001b[38;2;114;156;31m━━━━━━━━━━━━━━━━━━━━━━━━━━━━━━━━━━━━━━━\u001b[0m \u001b[32m200.5/200.5 kB\u001b[0m \u001b[31m3.4 MB/s\u001b[0m eta \u001b[36m0:00:00\u001b[0m[31m4.5 MB/s\u001b[0m eta \u001b[36m0:00:01\u001b[0m\n",
      "\u001b[?25hBuilding wheels for collected packages: pyspark\n",
      "  Building wheel for pyspark (pyproject.toml) ... \u001b[?25ldone\n",
      "\u001b[?25h  Created wheel for pyspark: filename=pyspark-3.5.0-py2.py3-none-any.whl size=317425345 sha256=53b20a34462e36729e86d00dd2adafa11d429c00b0905ac8b3d7080d15717204\n",
      "  Stored in directory: /home/consularparadi/.cache/pip/wheels/84/40/20/65eefe766118e0a8f8e385cc3ed6e9eb7241c7e51cfc04c51a\n",
      "Successfully built pyspark\n",
      "Installing collected packages: py4j, pyspark\n",
      "Successfully installed py4j-0.10.9.7 pyspark-3.5.0\n"
     ]
    }
   ],
   "source": [
    "!pip install pyspark"
   ]
  },
  {
   "cell_type": "code",
   "execution_count": 2,
   "id": "7e0c81f9-39e1-4692-bd0d-37c217f303bf",
   "metadata": {},
   "outputs": [],
   "source": [
    "import pyspark"
   ]
  },
  {
   "cell_type": "code",
   "execution_count": 3,
   "id": "7e53f3d1-2f74-46b4-ae49-18644e80982b",
   "metadata": {},
   "outputs": [],
   "source": [
    "from pyspark.sql import SparkSession"
   ]
  },
  {
   "cell_type": "code",
   "execution_count": 4,
   "id": "96921eb0-9e54-419d-8d6d-6bccb392f7ab",
   "metadata": {},
   "outputs": [
    {
     "name": "stderr",
     "output_type": "stream",
     "text": [
      "Setting default log level to \"WARN\".\n",
      "To adjust logging level use sc.setLogLevel(newLevel). For SparkR, use setLogLevel(newLevel).\n",
      "24/01/23 18:50:57 WARN NativeCodeLoader: Unable to load native-hadoop library for your platform... using builtin-java classes where applicable\n"
     ]
    }
   ],
   "source": [
    "spark = SparkSession.builder.appName('Practice').getOrCreate()"
   ]
  },
  {
   "cell_type": "code",
   "execution_count": 5,
   "id": "470ecc3d-4bfe-46f2-96d7-a427c06a750d",
   "metadata": {},
   "outputs": [
    {
     "data": {
      "text/html": [
       "\n",
       "            <div>\n",
       "                <p><b>SparkSession - in-memory</b></p>\n",
       "                \n",
       "        <div>\n",
       "            <p><b>SparkContext</b></p>\n",
       "\n",
       "            <p><a href=\"http://fedora:4040\">Spark UI</a></p>\n",
       "\n",
       "            <dl>\n",
       "              <dt>Version</dt>\n",
       "                <dd><code>v3.5.0</code></dd>\n",
       "              <dt>Master</dt>\n",
       "                <dd><code>local[*]</code></dd>\n",
       "              <dt>AppName</dt>\n",
       "                <dd><code>Practice</code></dd>\n",
       "            </dl>\n",
       "        </div>\n",
       "        \n",
       "            </div>\n",
       "        "
      ],
      "text/plain": [
       "<pyspark.sql.session.SparkSession at 0x7fd97c1d89e0>"
      ]
     },
     "execution_count": 5,
     "metadata": {},
     "output_type": "execute_result"
    }
   ],
   "source": [
    "spark"
   ]
  },
  {
   "cell_type": "code",
   "execution_count": 6,
   "id": "4d975cd7-947b-4dfc-99cd-e77e1c1dcedf",
   "metadata": {},
   "outputs": [
    {
     "name": "stdout",
     "output_type": "stream",
     "text": [
      "Defaulting to user installation because normal site-packages is not writeable\n",
      "Requirement already satisfied: pandas in /home/consularparadi/.local/lib/python3.12/site-packages (2.2.0)\n",
      "Requirement already satisfied: numpy<2,>=1.26.0 in /home/consularparadi/.local/lib/python3.12/site-packages (from pandas) (1.26.2)\n",
      "Requirement already satisfied: python-dateutil>=2.8.2 in /home/consularparadi/.local/lib/python3.12/site-packages (from pandas) (2.8.2)\n",
      "Requirement already satisfied: pytz>=2020.1 in /home/consularparadi/.local/lib/python3.12/site-packages (from pandas) (2023.3.post1)\n",
      "Requirement already satisfied: tzdata>=2022.7 in /home/consularparadi/.local/lib/python3.12/site-packages (from pandas) (2023.4)\n",
      "Requirement already satisfied: six>=1.5 in /home/consularparadi/.local/lib/python3.12/site-packages (from python-dateutil>=2.8.2->pandas) (1.16.0)\n"
     ]
    }
   ],
   "source": [
    "!pip install pandas"
   ]
  },
  {
   "cell_type": "code",
   "execution_count": 8,
   "id": "7c781162-700f-4a15-9fc7-debae75893da",
   "metadata": {},
   "outputs": [
    {
     "name": "stderr",
     "output_type": "stream",
     "text": [
      "/tmp/ipykernel_32405/3615979393.py:1: DeprecationWarning: \n",
      "Pyarrow will become a required dependency of pandas in the next major release of pandas (pandas 3.0),\n",
      "(to allow more performant data types, such as the Arrow string type, and better interoperability with other libraries)\n",
      "but was not found to be installed on your system.\n",
      "If this would cause problems for you,\n",
      "please provide us feedback at https://github.com/pandas-dev/pandas/issues/54466\n",
      "        \n",
      "  import pandas\n"
     ]
    }
   ],
   "source": [
    "import pandas\n",
    "df = pandas.read_csv(\"./organizations-1000.csv\")"
   ]
  },
  {
   "cell_type": "code",
   "execution_count": 9,
   "id": "4d3b4b84-5a78-428c-b4b9-c0cf30ca517f",
   "metadata": {},
   "outputs": [
    {
     "data": {
      "text/html": [
       "<div>\n",
       "<style scoped>\n",
       "    .dataframe tbody tr th:only-of-type {\n",
       "        vertical-align: middle;\n",
       "    }\n",
       "\n",
       "    .dataframe tbody tr th {\n",
       "        vertical-align: top;\n",
       "    }\n",
       "\n",
       "    .dataframe thead th {\n",
       "        text-align: right;\n",
       "    }\n",
       "</style>\n",
       "<table border=\"1\" class=\"dataframe\">\n",
       "  <thead>\n",
       "    <tr style=\"text-align: right;\">\n",
       "      <th></th>\n",
       "      <th>Index</th>\n",
       "      <th>Organization Id</th>\n",
       "      <th>Name</th>\n",
       "      <th>Website</th>\n",
       "      <th>Country</th>\n",
       "      <th>Description</th>\n",
       "      <th>Founded</th>\n",
       "      <th>Industry</th>\n",
       "      <th>Number of employees</th>\n",
       "    </tr>\n",
       "  </thead>\n",
       "  <tbody>\n",
       "    <tr>\n",
       "      <th>0</th>\n",
       "      <td>1</td>\n",
       "      <td>E84A904909dF528</td>\n",
       "      <td>Liu-Hoover</td>\n",
       "      <td>http://www.day-hartman.org/</td>\n",
       "      <td>Western Sahara</td>\n",
       "      <td>Ergonomic zero administration knowledge user</td>\n",
       "      <td>1980</td>\n",
       "      <td>Online Publishing</td>\n",
       "      <td>6852</td>\n",
       "    </tr>\n",
       "    <tr>\n",
       "      <th>1</th>\n",
       "      <td>2</td>\n",
       "      <td>AAC4f9aBF86EAeF</td>\n",
       "      <td>Orr-Armstrong</td>\n",
       "      <td>https://www.chapman.net/</td>\n",
       "      <td>Algeria</td>\n",
       "      <td>Ergonomic radical budgetary management</td>\n",
       "      <td>1970</td>\n",
       "      <td>Import / Export</td>\n",
       "      <td>7994</td>\n",
       "    </tr>\n",
       "    <tr>\n",
       "      <th>2</th>\n",
       "      <td>3</td>\n",
       "      <td>ad2eb3C8C24DB87</td>\n",
       "      <td>Gill-Lamb</td>\n",
       "      <td>http://lin.com/</td>\n",
       "      <td>Cote d'Ivoire</td>\n",
       "      <td>Programmable intermediate conglomeration</td>\n",
       "      <td>2005</td>\n",
       "      <td>Apparel / Fashion</td>\n",
       "      <td>5105</td>\n",
       "    </tr>\n",
       "    <tr>\n",
       "      <th>3</th>\n",
       "      <td>4</td>\n",
       "      <td>D76BB12E5eE165B</td>\n",
       "      <td>Bauer-Weiss</td>\n",
       "      <td>https://gillespie-stout.com/</td>\n",
       "      <td>United States of America</td>\n",
       "      <td>Synergistic maximized definition</td>\n",
       "      <td>2015</td>\n",
       "      <td>Dairy</td>\n",
       "      <td>9069</td>\n",
       "    </tr>\n",
       "    <tr>\n",
       "      <th>4</th>\n",
       "      <td>5</td>\n",
       "      <td>2F31EddF2Db9aAE</td>\n",
       "      <td>Love-Palmer</td>\n",
       "      <td>https://kramer.com/</td>\n",
       "      <td>Denmark</td>\n",
       "      <td>Optimized optimizing moderator</td>\n",
       "      <td>2010</td>\n",
       "      <td>Management Consulting</td>\n",
       "      <td>6991</td>\n",
       "    </tr>\n",
       "    <tr>\n",
       "      <th>...</th>\n",
       "      <td>...</td>\n",
       "      <td>...</td>\n",
       "      <td>...</td>\n",
       "      <td>...</td>\n",
       "      <td>...</td>\n",
       "      <td>...</td>\n",
       "      <td>...</td>\n",
       "      <td>...</td>\n",
       "      <td>...</td>\n",
       "    </tr>\n",
       "    <tr>\n",
       "      <th>995</th>\n",
       "      <td>996</td>\n",
       "      <td>e5CEc38aa9A580b</td>\n",
       "      <td>Bullock Group</td>\n",
       "      <td>https://medina-bernard.com/</td>\n",
       "      <td>Turkmenistan</td>\n",
       "      <td>Public-key scalable conglomeration</td>\n",
       "      <td>1998</td>\n",
       "      <td>Wine / Spirits</td>\n",
       "      <td>6547</td>\n",
       "    </tr>\n",
       "    <tr>\n",
       "      <th>996</th>\n",
       "      <td>997</td>\n",
       "      <td>cEF9B4675E4bBd0</td>\n",
       "      <td>Mason Inc</td>\n",
       "      <td>https://franco-walls.com/</td>\n",
       "      <td>United States of America</td>\n",
       "      <td>Distributed exuding initiative</td>\n",
       "      <td>2015</td>\n",
       "      <td>Law Enforcement</td>\n",
       "      <td>9723</td>\n",
       "    </tr>\n",
       "    <tr>\n",
       "      <th>997</th>\n",
       "      <td>998</td>\n",
       "      <td>9abEb8aaFd25E04</td>\n",
       "      <td>Houston and Sons</td>\n",
       "      <td>http://mcgee.com/</td>\n",
       "      <td>Kenya</td>\n",
       "      <td>Stand-alone multi-state neural-net</td>\n",
       "      <td>1981</td>\n",
       "      <td>Civic / Social Organization</td>\n",
       "      <td>5355</td>\n",
       "    </tr>\n",
       "    <tr>\n",
       "      <th>998</th>\n",
       "      <td>999</td>\n",
       "      <td>de5Fc71DE825bFc</td>\n",
       "      <td>Olson-Solomon</td>\n",
       "      <td>https://koch.com/</td>\n",
       "      <td>Cocos (Keeling) Islands</td>\n",
       "      <td>Virtual responsive moderator</td>\n",
       "      <td>2013</td>\n",
       "      <td>Investment Banking / Venture</td>\n",
       "      <td>3825</td>\n",
       "    </tr>\n",
       "    <tr>\n",
       "      <th>999</th>\n",
       "      <td>1000</td>\n",
       "      <td>3ddb89ecD83B533</td>\n",
       "      <td>Maddox, Owen and Shepherd</td>\n",
       "      <td>https://www.hamilton.com/</td>\n",
       "      <td>Guinea</td>\n",
       "      <td>Reactive bottom-line pricing structure</td>\n",
       "      <td>2019</td>\n",
       "      <td>Animation</td>\n",
       "      <td>4467</td>\n",
       "    </tr>\n",
       "  </tbody>\n",
       "</table>\n",
       "<p>1000 rows × 9 columns</p>\n",
       "</div>"
      ],
      "text/plain": [
       "     Index  Organization Id                       Name  \\\n",
       "0        1  E84A904909dF528                 Liu-Hoover   \n",
       "1        2  AAC4f9aBF86EAeF              Orr-Armstrong   \n",
       "2        3  ad2eb3C8C24DB87                  Gill-Lamb   \n",
       "3        4  D76BB12E5eE165B                Bauer-Weiss   \n",
       "4        5  2F31EddF2Db9aAE                Love-Palmer   \n",
       "..     ...              ...                        ...   \n",
       "995    996  e5CEc38aa9A580b              Bullock Group   \n",
       "996    997  cEF9B4675E4bBd0                  Mason Inc   \n",
       "997    998  9abEb8aaFd25E04           Houston and Sons   \n",
       "998    999  de5Fc71DE825bFc              Olson-Solomon   \n",
       "999   1000  3ddb89ecD83B533  Maddox, Owen and Shepherd   \n",
       "\n",
       "                          Website                   Country  \\\n",
       "0     http://www.day-hartman.org/            Western Sahara   \n",
       "1        https://www.chapman.net/                   Algeria   \n",
       "2                 http://lin.com/             Cote d'Ivoire   \n",
       "3    https://gillespie-stout.com/  United States of America   \n",
       "4             https://kramer.com/                   Denmark   \n",
       "..                            ...                       ...   \n",
       "995   https://medina-bernard.com/              Turkmenistan   \n",
       "996     https://franco-walls.com/  United States of America   \n",
       "997             http://mcgee.com/                     Kenya   \n",
       "998             https://koch.com/   Cocos (Keeling) Islands   \n",
       "999     https://www.hamilton.com/                    Guinea   \n",
       "\n",
       "                                      Description  Founded  \\\n",
       "0    Ergonomic zero administration knowledge user     1980   \n",
       "1          Ergonomic radical budgetary management     1970   \n",
       "2        Programmable intermediate conglomeration     2005   \n",
       "3                Synergistic maximized definition     2015   \n",
       "4                  Optimized optimizing moderator     2010   \n",
       "..                                            ...      ...   \n",
       "995            Public-key scalable conglomeration     1998   \n",
       "996                Distributed exuding initiative     2015   \n",
       "997            Stand-alone multi-state neural-net     1981   \n",
       "998                  Virtual responsive moderator     2013   \n",
       "999        Reactive bottom-line pricing structure     2019   \n",
       "\n",
       "                         Industry  Number of employees  \n",
       "0               Online Publishing                 6852  \n",
       "1                 Import / Export                 7994  \n",
       "2               Apparel / Fashion                 5105  \n",
       "3                           Dairy                 9069  \n",
       "4           Management Consulting                 6991  \n",
       "..                            ...                  ...  \n",
       "995                Wine / Spirits                 6547  \n",
       "996               Law Enforcement                 9723  \n",
       "997   Civic / Social Organization                 5355  \n",
       "998  Investment Banking / Venture                 3825  \n",
       "999                     Animation                 4467  \n",
       "\n",
       "[1000 rows x 9 columns]"
      ]
     },
     "execution_count": 9,
     "metadata": {},
     "output_type": "execute_result"
    }
   ],
   "source": [
    "df"
   ]
  },
  {
   "cell_type": "code",
   "execution_count": 12,
   "id": "d8e03dc5-60d1-4f8c-a27a-05b99158df2c",
   "metadata": {},
   "outputs": [],
   "source": [
    "df_spark = spark.read.option(\"header\", 'true').csv('./organizations-1000.csv')"
   ]
  },
  {
   "cell_type": "code",
   "execution_count": 14,
   "id": "90538320-66ac-40a2-a955-0c9f1038bb16",
   "metadata": {},
   "outputs": [
    {
     "name": "stdout",
     "output_type": "stream",
     "text": [
      "+-----+---------------+--------------------+--------------------+--------------------+--------------------+-------+--------------------+-------------------+\n",
      "|Index|Organization Id|                Name|             Website|             Country|         Description|Founded|            Industry|Number of employees|\n",
      "+-----+---------------+--------------------+--------------------+--------------------+--------------------+-------+--------------------+-------------------+\n",
      "|    1|E84A904909dF528|          Liu-Hoover|http://www.day-ha...|      Western Sahara|Ergonomic zero ad...|   1980|   Online Publishing|               6852|\n",
      "|    2|AAC4f9aBF86EAeF|       Orr-Armstrong|https://www.chapm...|             Algeria|Ergonomic radical...|   1970|     Import / Export|               7994|\n",
      "|    3|ad2eb3C8C24DB87|           Gill-Lamb|     http://lin.com/|       Cote d'Ivoire|Programmable inte...|   2005|   Apparel / Fashion|               5105|\n",
      "|    4|D76BB12E5eE165B|         Bauer-Weiss|https://gillespie...|United States of ...|Synergistic maxim...|   2015|               Dairy|               9069|\n",
      "|    5|2F31EddF2Db9aAE|         Love-Palmer| https://kramer.com/|             Denmark|Optimized optimiz...|   2010|Management Consul...|               6991|\n",
      "|    6|6774DC1dB00BD11|Farmer, Edwards a...|http://wolfe-boyd...|      Norfolk Island|Virtual leadinged...|   2003|  Mental Health Care|               3503|\n",
      "|    7|116B5cD4eE1fAAc|Bass, Hester and ...|https://meza-smit...|          Uzbekistan|Multi-tiered syst...|   1994|   Computer Hardware|               2762|\n",
      "|    8|AB2eA15d98b6BD4|Strickland, Gray ...|   http://kerr.info/|              Israel|Team-oriented fre...|   1987|     Performing Arts|               7020|\n",
      "|    9|0c6D831e8DceCfE|Sparks, Decker an...|https://www.howe....|              Israel|Down-sized conten...|   1977|Marketing / Adver...|               2709|\n",
      "|   10|9ABE0c8aee135d6|Osborn, Ford and ...|http://www.mcdona...|Syrian Arab Republic|Optional coherent...|   1990|Investment Bankin...|               5731|\n",
      "|   11|C494aBe0CDB9c70|        Gonzales Inc|    http://lara.org/|              Angola|Enterprise-wide a...|   2019|Capital Markets /...|               2252|\n",
      "|   12|9FBF69aa2D9AAF1|Ballard, Goodman ...|http://berger-che...|                Iran|Multi-layered zer...|   2019|Logistics / Procu...|               6165|\n",
      "|   13|4EB9d3E5cF79b91|Bernard, Payne an...|http://williamson...|         Afghanistan|Polarized dynamic...|   1990|      Transportation|                730|\n",
      "|   14|e5CA6529DCD4030| Mcpherson-Blanchard|http://www.ward.com/|            Bulgaria|Integrated didact...|   1972|     Law Enforcement|               9890|\n",
      "|   15|b0BBeBB36bAbb35|Koch, Gomez and Hays|http://ewing-rosa...|French Southern T...|Operative nationa...|   1997|  Financial Services|               8497|\n",
      "|   16|CDa7Ec784D5A8Bd|Meza, Ramirez and...|  https://hardy.biz/|         Timor-Leste|Customer-focused ...|   2012|Public Relations ...|               5205|\n",
      "|   17|b7cBE6A9E79A56F|Morales, Hinton a...| https://hudson.com/|              Serbia|Seamless global u...|   2014|Museums / Institu...|               6706|\n",
      "|   18|e5cab57FFF6f4bd|       Abbott-Arroyo| http://delgado.net/|             Hungary|Visionary holisti...|   1994|Architecture / Pl...|                117|\n",
      "|   19|3851f381Ea54d70|       Trevino-Foley| https://baxter.com/|              Canada|Enterprise-wide 6...|   1973|      Wine / Spirits|               6765|\n",
      "|   20|2FaDD3Ac0fB4052|Bowman, Walters a...|https://www.drake...|               Yemen|Exclusive client-...|   1988|         Think Tanks|               5926|\n",
      "+-----+---------------+--------------------+--------------------+--------------------+--------------------+-------+--------------------+-------------------+\n",
      "only showing top 20 rows\n",
      "\n"
     ]
    }
   ],
   "source": [
    "df_spark.show()"
   ]
  },
  {
   "cell_type": "code",
   "execution_count": null,
   "id": "349a9a36-993a-4347-b81a-0c8a5be69335",
   "metadata": {},
   "outputs": [],
   "source": []
  }
 ],
 "metadata": {
  "kernelspec": {
   "display_name": "Python 3 (ipykernel)",
   "language": "python",
   "name": "python3"
  },
  "language_info": {
   "codemirror_mode": {
    "name": "ipython",
    "version": 3
   },
   "file_extension": ".py",
   "mimetype": "text/x-python",
   "name": "python",
   "nbconvert_exporter": "python",
   "pygments_lexer": "ipython3",
   "version": "3.12.1"
  }
 },
 "nbformat": 4,
 "nbformat_minor": 5
}
